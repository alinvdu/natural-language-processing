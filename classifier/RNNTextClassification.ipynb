{
 "cells": [
  {
   "cell_type": "code",
   "execution_count": 11,
   "metadata": {},
   "outputs": [],
   "source": [
    "import numpy as np\n",
    "import pandas as pd\n",
    "import tensorflow as tf\n",
    "import matplotlib.pyplot as plt\n",
    "from sklearn.model_selection import train_test_split\n",
    "\n",
    "from tensorflow.keras.preprocessing.text import Tokenizer\n",
    "from tensorflow.keras.preprocessing.sequence import pad_sequences\n",
    "from tensorflow.keras.layers import Dense, Input, GlobalMaxPooling1D\n",
    "from tensorflow.keras.layers import LSTM, GRU, SimpleRNN, Embedding\n",
    "from tensorflow.keras.models import Model\n",
    "from tensorflow.keras.losses import SparseCategoricalCrossentropy"
   ]
  },
  {
   "cell_type": "code",
   "execution_count": 12,
   "metadata": {},
   "outputs": [],
   "source": [
    "df = pd.read_csv(\"../data/bbc_text_cls.csv\")"
   ]
  },
  {
   "cell_type": "code",
   "execution_count": 13,
   "metadata": {},
   "outputs": [
    {
     "data": {
      "text/html": [
       "<div>\n",
       "<style scoped>\n",
       "    .dataframe tbody tr th:only-of-type {\n",
       "        vertical-align: middle;\n",
       "    }\n",
       "\n",
       "    .dataframe tbody tr th {\n",
       "        vertical-align: top;\n",
       "    }\n",
       "\n",
       "    .dataframe thead th {\n",
       "        text-align: right;\n",
       "    }\n",
       "</style>\n",
       "<table border=\"1\" class=\"dataframe\">\n",
       "  <thead>\n",
       "    <tr style=\"text-align: right;\">\n",
       "      <th></th>\n",
       "      <th>text</th>\n",
       "      <th>labels</th>\n",
       "    </tr>\n",
       "  </thead>\n",
       "  <tbody>\n",
       "    <tr>\n",
       "      <th>0</th>\n",
       "      <td>Ad sales boost Time Warner profit\\n\\nQuarterly...</td>\n",
       "      <td>business</td>\n",
       "    </tr>\n",
       "    <tr>\n",
       "      <th>1</th>\n",
       "      <td>Dollar gains on Greenspan speech\\n\\nThe dollar...</td>\n",
       "      <td>business</td>\n",
       "    </tr>\n",
       "    <tr>\n",
       "      <th>2</th>\n",
       "      <td>Yukos unit buyer faces loan claim\\n\\nThe owner...</td>\n",
       "      <td>business</td>\n",
       "    </tr>\n",
       "    <tr>\n",
       "      <th>3</th>\n",
       "      <td>High fuel prices hit BA's profits\\n\\nBritish A...</td>\n",
       "      <td>business</td>\n",
       "    </tr>\n",
       "    <tr>\n",
       "      <th>4</th>\n",
       "      <td>Pernod takeover talk lifts Domecq\\n\\nShares in...</td>\n",
       "      <td>business</td>\n",
       "    </tr>\n",
       "  </tbody>\n",
       "</table>\n",
       "</div>"
      ],
      "text/plain": [
       "                                                text    labels\n",
       "0  Ad sales boost Time Warner profit\\n\\nQuarterly...  business\n",
       "1  Dollar gains on Greenspan speech\\n\\nThe dollar...  business\n",
       "2  Yukos unit buyer faces loan claim\\n\\nThe owner...  business\n",
       "3  High fuel prices hit BA's profits\\n\\nBritish A...  business\n",
       "4  Pernod takeover talk lifts Domecq\\n\\nShares in...  business"
      ]
     },
     "execution_count": 13,
     "metadata": {},
     "output_type": "execute_result"
    }
   ],
   "source": [
    "df.head() "
   ]
  },
  {
   "cell_type": "code",
   "execution_count": 14,
   "metadata": {},
   "outputs": [],
   "source": [
    "df['targets'] = df['labels'].astype('category').cat.codes"
   ]
  },
  {
   "cell_type": "code",
   "execution_count": 15,
   "metadata": {},
   "outputs": [
    {
     "data": {
      "text/plain": [
       "5"
      ]
     },
     "execution_count": 15,
     "metadata": {},
     "output_type": "execute_result"
    }
   ],
   "source": [
    "K = df['targets'].max() + 1\n",
    "K"
   ]
  },
  {
   "cell_type": "code",
   "execution_count": 16,
   "metadata": {},
   "outputs": [],
   "source": [
    "df_train, df_test = train_test_split(df, test_size=0.3)"
   ]
  },
  {
   "cell_type": "code",
   "execution_count": 17,
   "metadata": {},
   "outputs": [],
   "source": [
    "# Convert sentences to sequences\n",
    "MAX_VOCAB_SIZE = 2000\n",
    "tokenizer = Tokenizer(num_words=MAX_VOCAB_SIZE)\n",
    "tokenizer.fit_on_texts(df_train['text'])\n",
    "sequences_train = tokenizer.texts_to_sequences(df_train['text'])\n",
    "sequences_test = tokenizer.texts_to_sequences(df_test['text'])"
   ]
  },
  {
   "cell_type": "code",
   "execution_count": 18,
   "metadata": {},
   "outputs": [
    {
     "name": "stdout",
     "output_type": "stream",
     "text": [
      "Found 27915 unique tokens\n"
     ]
    }
   ],
   "source": [
    "word2idx = tokenizer.word_index\n",
    "V = len(word2idx)\n",
    "print('Found %s unique tokens' % V)"
   ]
  },
  {
   "cell_type": "code",
   "execution_count": 19,
   "metadata": {},
   "outputs": [
    {
     "name": "stdout",
     "output_type": "stream",
     "text": [
      "Shape of data train tensor: (1557, 2824)\n"
     ]
    }
   ],
   "source": [
    "# pad sequences so we get N x T\n",
    "data_train = pad_sequences(sequences_train)\n",
    "print('Shape of data train tensor:', data_train.shape)\n",
    "\n",
    "# sequence length\n",
    "T = data_train.shape[1]"
   ]
  },
  {
   "cell_type": "code",
   "execution_count": 20,
   "metadata": {},
   "outputs": [
    {
     "name": "stdout",
     "output_type": "stream",
     "text": [
      "Shape of data test tensor: (668, 2824)\n"
     ]
    }
   ],
   "source": [
    "data_test = pad_sequences(sequences_test, maxlen=T)\n",
    "print('Shape of data test tensor:', data_test.shape)"
   ]
  },
  {
   "cell_type": "code",
   "execution_count": 27,
   "metadata": {},
   "outputs": [
    {
     "name": "stderr",
     "output_type": "stream",
     "text": [
      "2024-04-21 13:20:24.432534: I tensorflow/core/common_runtime/executor.cc:1197] [/device:CPU:0] (DEBUG INFO) Executor start aborting (this does not indicate an error and you can ignore this message): INVALID_ARGUMENT: You must feed a value for placeholder tensor 'gradients/split_2_grad/concat/split_2/split_dim' with dtype int32\n",
      "\t [[{{node gradients/split_2_grad/concat/split_2/split_dim}}]]\n",
      "2024-04-21 13:20:24.433045: I tensorflow/core/common_runtime/executor.cc:1197] [/device:CPU:0] (DEBUG INFO) Executor start aborting (this does not indicate an error and you can ignore this message): INVALID_ARGUMENT: You must feed a value for placeholder tensor 'gradients/split_grad/concat/split/split_dim' with dtype int32\n",
      "\t [[{{node gradients/split_grad/concat/split/split_dim}}]]\n",
      "2024-04-21 13:20:24.433503: I tensorflow/core/common_runtime/executor.cc:1197] [/device:CPU:0] (DEBUG INFO) Executor start aborting (this does not indicate an error and you can ignore this message): INVALID_ARGUMENT: You must feed a value for placeholder tensor 'gradients/split_1_grad/concat/split_1/split_dim' with dtype int32\n",
      "\t [[{{node gradients/split_1_grad/concat/split_1/split_dim}}]]\n"
     ]
    }
   ],
   "source": [
    "# Model\n",
    "D = 20\n",
    "\n",
    "i = Input(shape=(T,))\n",
    "x = Embedding(V + 1, D)(i)\n",
    "x = LSTM(32, return_sequences=True)(x)\n",
    "x = GlobalMaxPooling1D()(x)\n",
    "x = Dense(K)(x)\n",
    "\n",
    "model = Model(i, x)"
   ]
  },
  {
   "cell_type": "code",
   "execution_count": 28,
   "metadata": {},
   "outputs": [
    {
     "name": "stdout",
     "output_type": "stream",
     "text": [
      "Epoch 1/50\n"
     ]
    },
    {
     "name": "stderr",
     "output_type": "stream",
     "text": [
      "2024-04-21 13:20:27.191589: W tensorflow/tsl/platform/profile_utils/cpu_utils.cc:128] Failed to get CPU frequency: 0 Hz\n",
      "2024-04-21 13:20:27.317237: I tensorflow/core/common_runtime/executor.cc:1197] [/device:CPU:0] (DEBUG INFO) Executor start aborting (this does not indicate an error and you can ignore this message): INVALID_ARGUMENT: You must feed a value for placeholder tensor 'gradients/split_2_grad/concat/split_2/split_dim' with dtype int32\n",
      "\t [[{{node gradients/split_2_grad/concat/split_2/split_dim}}]]\n",
      "2024-04-21 13:20:27.317905: I tensorflow/core/common_runtime/executor.cc:1197] [/device:CPU:0] (DEBUG INFO) Executor start aborting (this does not indicate an error and you can ignore this message): INVALID_ARGUMENT: You must feed a value for placeholder tensor 'gradients/split_grad/concat/split/split_dim' with dtype int32\n",
      "\t [[{{node gradients/split_grad/concat/split/split_dim}}]]\n",
      "2024-04-21 13:20:27.318565: I tensorflow/core/common_runtime/executor.cc:1197] [/device:CPU:0] (DEBUG INFO) Executor start aborting (this does not indicate an error and you can ignore this message): INVALID_ARGUMENT: You must feed a value for placeholder tensor 'gradients/split_1_grad/concat/split_1/split_dim' with dtype int32\n",
      "\t [[{{node gradients/split_1_grad/concat/split_1/split_dim}}]]\n",
      "2024-04-21 13:20:27.568770: I tensorflow/core/common_runtime/executor.cc:1197] [/device:CPU:0] (DEBUG INFO) Executor start aborting (this does not indicate an error and you can ignore this message): INVALID_ARGUMENT: You must feed a value for placeholder tensor 'gradients/split_2_grad/concat/split_2/split_dim' with dtype int32\n",
      "\t [[{{node gradients/split_2_grad/concat/split_2/split_dim}}]]\n",
      "2024-04-21 13:20:27.569637: I tensorflow/core/common_runtime/executor.cc:1197] [/device:CPU:0] (DEBUG INFO) Executor start aborting (this does not indicate an error and you can ignore this message): INVALID_ARGUMENT: You must feed a value for placeholder tensor 'gradients/split_grad/concat/split/split_dim' with dtype int32\n",
      "\t [[{{node gradients/split_grad/concat/split/split_dim}}]]\n",
      "2024-04-21 13:20:27.570663: I tensorflow/core/common_runtime/executor.cc:1197] [/device:CPU:0] (DEBUG INFO) Executor start aborting (this does not indicate an error and you can ignore this message): INVALID_ARGUMENT: You must feed a value for placeholder tensor 'gradients/split_1_grad/concat/split_1/split_dim' with dtype int32\n",
      "\t [[{{node gradients/split_1_grad/concat/split_1/split_dim}}]]\n"
     ]
    },
    {
     "name": "stdout",
     "output_type": "stream",
     "text": [
      "49/49 [==============================] - ETA: 0s - loss: 1.5996 - accuracy: 0.2460"
     ]
    },
    {
     "name": "stderr",
     "output_type": "stream",
     "text": [
      "2024-04-21 13:21:01.088028: I tensorflow/core/common_runtime/executor.cc:1197] [/device:CPU:0] (DEBUG INFO) Executor start aborting (this does not indicate an error and you can ignore this message): INVALID_ARGUMENT: You must feed a value for placeholder tensor 'gradients/split_2_grad/concat/split_2/split_dim' with dtype int32\n",
      "\t [[{{node gradients/split_2_grad/concat/split_2/split_dim}}]]\n",
      "2024-04-21 13:21:01.088555: I tensorflow/core/common_runtime/executor.cc:1197] [/device:CPU:0] (DEBUG INFO) Executor start aborting (this does not indicate an error and you can ignore this message): INVALID_ARGUMENT: You must feed a value for placeholder tensor 'gradients/split_grad/concat/split/split_dim' with dtype int32\n",
      "\t [[{{node gradients/split_grad/concat/split/split_dim}}]]\n",
      "2024-04-21 13:21:01.089029: I tensorflow/core/common_runtime/executor.cc:1197] [/device:CPU:0] (DEBUG INFO) Executor start aborting (this does not indicate an error and you can ignore this message): INVALID_ARGUMENT: You must feed a value for placeholder tensor 'gradients/split_1_grad/concat/split_1/split_dim' with dtype int32\n",
      "\t [[{{node gradients/split_1_grad/concat/split_1/split_dim}}]]\n"
     ]
    },
    {
     "name": "stdout",
     "output_type": "stream",
     "text": [
      "49/49 [==============================] - 36s 712ms/step - loss: 1.5996 - accuracy: 0.2460 - val_loss: 1.5876 - val_accuracy: 0.2171\n",
      "Epoch 2/50\n",
      "49/49 [==============================] - 35s 721ms/step - loss: 1.5233 - accuracy: 0.4014 - val_loss: 1.7557 - val_accuracy: 0.2126\n",
      "Epoch 3/50\n",
      "49/49 [==============================] - 35s 712ms/step - loss: 1.3346 - accuracy: 0.4348 - val_loss: 1.1469 - val_accuracy: 0.4491\n",
      "Epoch 4/50\n",
      "49/49 [==============================] - 34s 699ms/step - loss: 1.0190 - accuracy: 0.5735 - val_loss: 1.0815 - val_accuracy: 0.6228\n",
      "Epoch 5/50\n",
      "49/49 [==============================] - 34s 699ms/step - loss: 0.8622 - accuracy: 0.7373 - val_loss: 0.9304 - val_accuracy: 0.5823\n",
      "Epoch 6/50\n",
      "49/49 [==============================] - 34s 699ms/step - loss: 0.6902 - accuracy: 0.7983 - val_loss: 0.8141 - val_accuracy: 0.6377\n",
      "Epoch 7/50\n",
      "49/49 [==============================] - 34s 700ms/step - loss: 0.6464 - accuracy: 0.7925 - val_loss: 0.8484 - val_accuracy: 0.6931\n",
      "Epoch 8/50\n",
      "49/49 [==============================] - 34s 701ms/step - loss: 0.6335 - accuracy: 0.8548 - val_loss: 0.6516 - val_accuracy: 0.8757\n",
      "Epoch 9/50\n",
      "49/49 [==============================] - 34s 701ms/step - loss: 0.4566 - accuracy: 0.9242 - val_loss: 0.4967 - val_accuracy: 0.9132\n",
      "Epoch 10/50\n",
      "49/49 [==============================] - 34s 701ms/step - loss: 0.3344 - accuracy: 0.9473 - val_loss: 0.3875 - val_accuracy: 0.9177\n",
      "Epoch 11/50\n",
      "49/49 [==============================] - 34s 701ms/step - loss: 0.2625 - accuracy: 0.9486 - val_loss: 0.5308 - val_accuracy: 0.8114\n",
      "Epoch 12/50\n",
      "49/49 [==============================] - 36s 744ms/step - loss: 0.4435 - accuracy: 0.8401 - val_loss: 0.3797 - val_accuracy: 0.9416\n",
      "Epoch 13/50\n",
      "49/49 [==============================] - 34s 701ms/step - loss: 0.2569 - accuracy: 0.9756 - val_loss: 0.3638 - val_accuracy: 0.9222\n",
      "Epoch 14/50\n",
      "49/49 [==============================] - 35s 722ms/step - loss: 0.2047 - accuracy: 0.9788 - val_loss: 0.2826 - val_accuracy: 0.9461\n",
      "Epoch 15/50\n",
      "49/49 [==============================] - 34s 701ms/step - loss: 0.1536 - accuracy: 0.9897 - val_loss: 0.2656 - val_accuracy: 0.9401\n",
      "Epoch 16/50\n",
      "49/49 [==============================] - 34s 700ms/step - loss: 0.1286 - accuracy: 0.9891 - val_loss: 0.2296 - val_accuracy: 0.9446\n",
      "Epoch 17/50\n",
      "49/49 [==============================] - 34s 702ms/step - loss: 0.1333 - accuracy: 0.9852 - val_loss: 0.2569 - val_accuracy: 0.9491\n",
      "Epoch 18/50\n",
      "49/49 [==============================] - 34s 701ms/step - loss: 0.1189 - accuracy: 0.9814 - val_loss: 0.2528 - val_accuracy: 0.9251\n",
      "Epoch 19/50\n",
      "49/49 [==============================] - 34s 701ms/step - loss: 0.1012 - accuracy: 0.9833 - val_loss: 0.1975 - val_accuracy: 0.9521\n",
      "Epoch 20/50\n",
      "49/49 [==============================] - 34s 700ms/step - loss: 0.0804 - accuracy: 0.9923 - val_loss: 0.2123 - val_accuracy: 0.9536\n",
      "Epoch 21/50\n",
      "49/49 [==============================] - 34s 702ms/step - loss: 0.0663 - accuracy: 0.9917 - val_loss: 0.1802 - val_accuracy: 0.9566\n",
      "Epoch 22/50\n",
      "49/49 [==============================] - 34s 701ms/step - loss: 0.0652 - accuracy: 0.9917 - val_loss: 0.1676 - val_accuracy: 0.9596\n",
      "Epoch 23/50\n",
      "49/49 [==============================] - 34s 702ms/step - loss: 0.0484 - accuracy: 0.9968 - val_loss: 0.1594 - val_accuracy: 0.9581\n",
      "Epoch 24/50\n",
      "49/49 [==============================] - 34s 705ms/step - loss: 0.0473 - accuracy: 0.9942 - val_loss: 0.1673 - val_accuracy: 0.9536\n",
      "Epoch 25/50\n",
      "49/49 [==============================] - 35s 706ms/step - loss: 0.1641 - accuracy: 0.9518 - val_loss: 0.6836 - val_accuracy: 0.8398\n",
      "Epoch 26/50\n",
      "49/49 [==============================] - 34s 705ms/step - loss: 0.2101 - accuracy: 0.9640 - val_loss: 0.2568 - val_accuracy: 0.9476\n",
      "Epoch 27/50\n",
      "49/49 [==============================] - 34s 703ms/step - loss: 0.0974 - accuracy: 0.9923 - val_loss: 0.2186 - val_accuracy: 0.9506\n",
      "Epoch 28/50\n",
      "49/49 [==============================] - 34s 705ms/step - loss: 0.0743 - accuracy: 0.9942 - val_loss: 0.2007 - val_accuracy: 0.9536\n",
      "Epoch 29/50\n",
      "49/49 [==============================] - 35s 706ms/step - loss: 0.0597 - accuracy: 0.9955 - val_loss: 0.1973 - val_accuracy: 0.9551\n",
      "Epoch 30/50\n",
      "49/49 [==============================] - 34s 704ms/step - loss: 0.0638 - accuracy: 0.9923 - val_loss: 0.1776 - val_accuracy: 0.9581\n",
      "Epoch 31/50\n",
      "49/49 [==============================] - 34s 703ms/step - loss: 0.0469 - accuracy: 0.9968 - val_loss: 0.1380 - val_accuracy: 0.9716\n",
      "Epoch 32/50\n",
      "49/49 [==============================] - 35s 707ms/step - loss: 0.0377 - accuracy: 0.9968 - val_loss: 0.1439 - val_accuracy: 0.9701\n",
      "Epoch 33/50\n",
      "49/49 [==============================] - 35s 706ms/step - loss: 0.0317 - accuracy: 0.9974 - val_loss: 0.1408 - val_accuracy: 0.9656\n",
      "Epoch 34/50\n",
      "49/49 [==============================] - 35s 711ms/step - loss: 0.0279 - accuracy: 0.9974 - val_loss: 0.1294 - val_accuracy: 0.9701\n",
      "Epoch 35/50\n",
      "49/49 [==============================] - 35s 719ms/step - loss: 0.0238 - accuracy: 0.9987 - val_loss: 0.1757 - val_accuracy: 0.9581\n",
      "Epoch 36/50\n",
      "49/49 [==============================] - 35s 719ms/step - loss: 0.0289 - accuracy: 0.9961 - val_loss: 0.1691 - val_accuracy: 0.9611\n",
      "Epoch 37/50\n",
      "49/49 [==============================] - 35s 715ms/step - loss: 0.0267 - accuracy: 0.9961 - val_loss: 0.1537 - val_accuracy: 0.9641\n",
      "Epoch 38/50\n",
      "49/49 [==============================] - 35s 717ms/step - loss: 0.0190 - accuracy: 0.9968 - val_loss: 0.1951 - val_accuracy: 0.9566\n",
      "Epoch 39/50\n",
      "49/49 [==============================] - 35s 718ms/step - loss: 0.0214 - accuracy: 0.9968 - val_loss: 0.1380 - val_accuracy: 0.9671\n",
      "Epoch 40/50\n",
      "49/49 [==============================] - 35s 719ms/step - loss: 0.0135 - accuracy: 0.9987 - val_loss: 0.1697 - val_accuracy: 0.9641\n",
      "Epoch 41/50\n",
      "49/49 [==============================] - 35s 717ms/step - loss: 0.0126 - accuracy: 0.9981 - val_loss: 0.2001 - val_accuracy: 0.9536\n",
      "Epoch 42/50\n",
      "49/49 [==============================] - 35s 719ms/step - loss: 0.0097 - accuracy: 0.9994 - val_loss: 0.1744 - val_accuracy: 0.9611\n",
      "Epoch 43/50\n",
      "49/49 [==============================] - 35s 720ms/step - loss: 0.0078 - accuracy: 1.0000 - val_loss: 0.1862 - val_accuracy: 0.9596\n",
      "Epoch 44/50\n",
      "49/49 [==============================] - 35s 720ms/step - loss: 0.0104 - accuracy: 0.9981 - val_loss: 0.2109 - val_accuracy: 0.9506\n",
      "Epoch 45/50\n",
      "49/49 [==============================] - 35s 725ms/step - loss: 0.0087 - accuracy: 0.9987 - val_loss: 0.2158 - val_accuracy: 0.9491\n",
      "Epoch 46/50\n",
      "49/49 [==============================] - 35s 715ms/step - loss: 0.0068 - accuracy: 0.9994 - val_loss: 0.2126 - val_accuracy: 0.9521\n",
      "Epoch 47/50\n",
      "49/49 [==============================] - 35s 715ms/step - loss: 0.0060 - accuracy: 0.9994 - val_loss: 0.2195 - val_accuracy: 0.9491\n",
      "Epoch 48/50\n",
      "49/49 [==============================] - 35s 715ms/step - loss: 0.0046 - accuracy: 1.0000 - val_loss: 0.2231 - val_accuracy: 0.9491\n",
      "Epoch 49/50\n",
      "49/49 [==============================] - 35s 718ms/step - loss: 0.0249 - accuracy: 0.9923 - val_loss: 0.3530 - val_accuracy: 0.8653\n",
      "Epoch 50/50\n",
      "49/49 [==============================] - 35s 712ms/step - loss: 0.1003 - accuracy: 0.9717 - val_loss: 0.1878 - val_accuracy: 0.9341\n"
     ]
    }
   ],
   "source": [
    "model.compile(\n",
    "    loss=SparseCategoricalCrossentropy(from_logits=True),\n",
    "    optimizer='adam',\n",
    "    metrics=['accuracy']\n",
    ")\n",
    "\n",
    "r = model.fit(\n",
    "    data_train,\n",
    "    df_train['targets'],\n",
    "    epochs=50,\n",
    "    validation_data=(data_test, df_test['targets'])\n",
    ")"
   ]
  },
  {
   "cell_type": "code",
   "execution_count": 29,
   "metadata": {},
   "outputs": [
    {
     "data": {
      "text/plain": [
       "<matplotlib.legend.Legend at 0x316604950>"
      ]
     },
     "execution_count": 29,
     "metadata": {},
     "output_type": "execute_result"
    },
    {
     "data": {
      "image/png": "[encoded data removed]",
      "text/plain": [
       "<Figure size 640x480 with 1 Axes>"
      ]
     },
     "metadata": {},
     "output_type": "display_data"
    }
   ],
   "source": [
    "plt.plot(r.history['loss'], label='train_loss')\n",
    "plt.plot(r.history['val_loss'], label='val loss')\n",
    "plt.legend()"
   ]
  },
  {
   "cell_type": "code",
   "execution_count": 30,
   "metadata": {},
   "outputs": [
    {
     "data": {
      "text/plain": [
       "<matplotlib.legend.Legend at 0x31382ff50>"
      ]
     },
     "execution_count": 30,
     "metadata": {},
     "output_type": "execute_result"
    },
    {
     "data": {
      "image/png": "[encoded data removed]",
      "text/plain": [
       "<Figure size 640x480 with 1 Axes>"
      ]
     },
     "metadata": {},
     "output_type": "display_data"
    }
   ],
   "source": [
    "plt.plot(r.history['accuracy'], label='train_acc')\n",
    "plt.plot(r.history['val_accuracy'], label='val acc')\n",
    "plt.legend()"
   ]
  },
  {
   "cell_type": "code",
   "execution_count": null,
   "metadata": {},
   "outputs": [],
   "source": []
  }
 ],
 "metadata": {
  "kernelspec": {
   "display_name": "keras-env",
   "language": "python",
   "name": "python3"
  },
  "language_info": {
   "codemirror_mode": {
    "name": "ipython",
    "version": 3
   },
   "file_extension": ".py",
   "mimetype": "text/x-python",
   "name": "python",
   "nbconvert_exporter": "python",
   "pygments_lexer": "ipython3",
   "version": "3.11.5"
  }
 },
 "nbformat": 4,
 "nbformat_minor": 2
}
