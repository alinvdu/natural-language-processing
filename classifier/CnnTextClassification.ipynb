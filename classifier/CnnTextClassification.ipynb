{
 "cells": [
  {
   "cell_type": "code",
   "execution_count": 2,
   "metadata": {},
   "outputs": [],
   "source": [
    "import numpy as np\n",
    "import pandas as pd\n",
    "import tensorflow as tf\n",
    "import matplotlib.pyplot as plt\n",
    "from sklearn.model_selection import train_test_split\n",
    "\n",
    "from tensorflow.keras.preprocessing.text import Tokenizer\n",
    "from tensorflow.keras.preprocessing.sequence import pad_sequences\n",
    "from tensorflow.keras.layers import Dense, Input, GlobalMaxPooling1D\n",
    "from tensorflow.keras.layers import Conv1D, MaxPooling1D, Embedding\n",
    "from tensorflow.keras.models import Model\n",
    "from tensorflow.keras.losses import SparseCategoricalCrossentropy"
   ]
  },
  {
   "cell_type": "code",
   "execution_count": 3,
   "metadata": {},
   "outputs": [],
   "source": [
    "df = pd.read_csv('../data/bbc_text_cls.csv')"
   ]
  },
  {
   "cell_type": "code",
   "execution_count": 4,
   "metadata": {},
   "outputs": [
    {
     "data": {
      "text/html": [
       "<div>\n",
       "<style scoped>\n",
       "    .dataframe tbody tr th:only-of-type {\n",
       "        vertical-align: middle;\n",
       "    }\n",
       "\n",
       "    .dataframe tbody tr th {\n",
       "        vertical-align: top;\n",
       "    }\n",
       "\n",
       "    .dataframe thead th {\n",
       "        text-align: right;\n",
       "    }\n",
       "</style>\n",
       "<table border=\"1\" class=\"dataframe\">\n",
       "  <thead>\n",
       "    <tr style=\"text-align: right;\">\n",
       "      <th></th>\n",
       "      <th>text</th>\n",
       "      <th>labels</th>\n",
       "    </tr>\n",
       "  </thead>\n",
       "  <tbody>\n",
       "    <tr>\n",
       "      <th>0</th>\n",
       "      <td>Ad sales boost Time Warner profit\\n\\nQuarterly...</td>\n",
       "      <td>business</td>\n",
       "    </tr>\n",
       "    <tr>\n",
       "      <th>1</th>\n",
       "      <td>Dollar gains on Greenspan speech\\n\\nThe dollar...</td>\n",
       "      <td>business</td>\n",
       "    </tr>\n",
       "    <tr>\n",
       "      <th>2</th>\n",
       "      <td>Yukos unit buyer faces loan claim\\n\\nThe owner...</td>\n",
       "      <td>business</td>\n",
       "    </tr>\n",
       "    <tr>\n",
       "      <th>3</th>\n",
       "      <td>High fuel prices hit BA's profits\\n\\nBritish A...</td>\n",
       "      <td>business</td>\n",
       "    </tr>\n",
       "    <tr>\n",
       "      <th>4</th>\n",
       "      <td>Pernod takeover talk lifts Domecq\\n\\nShares in...</td>\n",
       "      <td>business</td>\n",
       "    </tr>\n",
       "  </tbody>\n",
       "</table>\n",
       "</div>"
      ],
      "text/plain": [
       "                                                text    labels\n",
       "0  Ad sales boost Time Warner profit\\n\\nQuarterly...  business\n",
       "1  Dollar gains on Greenspan speech\\n\\nThe dollar...  business\n",
       "2  Yukos unit buyer faces loan claim\\n\\nThe owner...  business\n",
       "3  High fuel prices hit BA's profits\\n\\nBritish A...  business\n",
       "4  Pernod takeover talk lifts Domecq\\n\\nShares in...  business"
      ]
     },
     "execution_count": 4,
     "metadata": {},
     "output_type": "execute_result"
    }
   ],
   "source": [
    "df.head()"
   ]
  },
  {
   "cell_type": "code",
   "execution_count": 5,
   "metadata": {},
   "outputs": [],
   "source": [
    "df['targets'] = df['labels'].astype(\"category\").cat.codes"
   ]
  },
  {
   "cell_type": "code",
   "execution_count": 6,
   "metadata": {},
   "outputs": [],
   "source": [
    "K = df['targets'].max() + 1"
   ]
  },
  {
   "cell_type": "code",
   "execution_count": 7,
   "metadata": {},
   "outputs": [
    {
     "data": {
      "text/plain": [
       "5"
      ]
     },
     "execution_count": 7,
     "metadata": {},
     "output_type": "execute_result"
    }
   ],
   "source": [
    "K"
   ]
  },
  {
   "cell_type": "code",
   "execution_count": 8,
   "metadata": {},
   "outputs": [],
   "source": [
    "df_train, df_test = train_test_split(df, test_size=0.3)"
   ]
  },
  {
   "cell_type": "code",
   "execution_count": 9,
   "metadata": {},
   "outputs": [],
   "source": [
    "# Convert text to seq\n",
    "MAX_VOCAB_SIZE = 2000\n",
    "tokenizer = Tokenizer(num_words=MAX_VOCAB_SIZE)\n",
    "tokenizer.fit_on_texts(df_train['text'])\n",
    "sequences_train = tokenizer.texts_to_sequences(df_train['text'])\n",
    "sequences_test = tokenizer.texts_to_sequences(df_test['text'])"
   ]
  },
  {
   "cell_type": "code",
   "execution_count": 10,
   "metadata": {},
   "outputs": [
    {
     "name": "stdout",
     "output_type": "stream",
     "text": [
      "Found 27793 unique tokens.\n"
     ]
    }
   ],
   "source": [
    "word2idx = tokenizer.word_index\n",
    "V = len(word2idx)\n",
    "print(\"Found %s unique tokens.\" %V)"
   ]
  },
  {
   "cell_type": "code",
   "execution_count": 11,
   "metadata": {},
   "outputs": [
    {
     "name": "stdout",
     "output_type": "stream",
     "text": [
      "Shape of data train tensor: (1557, 3493)\n"
     ]
    }
   ],
   "source": [
    "# pad the sequences so we get a N x T matrix.\n",
    "data_train = pad_sequences(sequences_train)\n",
    "print(\"Shape of data train tensor:\", data_train.shape)"
   ]
  },
  {
   "cell_type": "code",
   "execution_count": 12,
   "metadata": {},
   "outputs": [],
   "source": [
    "T = data_train.shape[1]"
   ]
  },
  {
   "cell_type": "code",
   "execution_count": 13,
   "metadata": {},
   "outputs": [
    {
     "name": "stdout",
     "output_type": "stream",
     "text": [
      "Shape of data test tensor: (668, 3493)\n"
     ]
    }
   ],
   "source": [
    "data_test = pad_sequences(sequences_test, maxlen=T)\n",
    "print(\"Shape of data test tensor:\", data_test.shape)"
   ]
  },
  {
   "cell_type": "code",
   "execution_count": 14,
   "metadata": {},
   "outputs": [],
   "source": [
    "D = 50"
   ]
  },
  {
   "cell_type": "code",
   "execution_count": 16,
   "metadata": {},
   "outputs": [],
   "source": [
    "i = Input(shape=(T,))\n",
    "x = Embedding(V + 1, D)(i)\n",
    "x = Conv1D(32, 3, activation='relu')(x)\n",
    "x = GlobalMaxPooling1D()(x)\n",
    "x = Dense(K)(x)\n",
    "\n",
    "model = Model(i, x)"
   ]
  },
  {
   "cell_type": "code",
   "execution_count": 18,
   "metadata": {},
   "outputs": [
    {
     "name": "stdout",
     "output_type": "stream",
     "text": [
      "Epoch 1/50\n"
     ]
    },
    {
     "name": "stderr",
     "output_type": "stream",
     "text": [
      "2024-04-19 22:32:33.335879: W tensorflow/tsl/platform/profile_utils/cpu_utils.cc:128] Failed to get CPU frequency: 0 Hz\n"
     ]
    },
    {
     "name": "stdout",
     "output_type": "stream",
     "text": [
      "49/49 [==============================] - 2s 31ms/step - loss: 1.5679 - accuracy: 0.3629 - val_loss: 1.4980 - val_accuracy: 0.5105\n",
      "Epoch 2/50\n",
      "49/49 [==============================] - 1s 29ms/step - loss: 1.3459 - accuracy: 0.7193 - val_loss: 1.1825 - val_accuracy: 0.8174\n",
      "Epoch 3/50\n",
      "49/49 [==============================] - 2s 33ms/step - loss: 0.9094 - accuracy: 0.8838 - val_loss: 0.7125 - val_accuracy: 0.8847\n",
      "Epoch 4/50\n",
      "49/49 [==============================] - 2s 31ms/step - loss: 0.4931 - accuracy: 0.9274 - val_loss: 0.4280 - val_accuracy: 0.8982\n",
      "Epoch 5/50\n",
      "49/49 [==============================] - 1s 30ms/step - loss: 0.2793 - accuracy: 0.9589 - val_loss: 0.3044 - val_accuracy: 0.9237\n",
      "Epoch 6/50\n",
      "49/49 [==============================] - 2s 31ms/step - loss: 0.1778 - accuracy: 0.9685 - val_loss: 0.2465 - val_accuracy: 0.9326\n",
      "Epoch 7/50\n",
      "49/49 [==============================] - 2s 31ms/step - loss: 0.1222 - accuracy: 0.9833 - val_loss: 0.2125 - val_accuracy: 0.9356\n",
      "Epoch 8/50\n",
      "49/49 [==============================] - 2s 32ms/step - loss: 0.0873 - accuracy: 0.9904 - val_loss: 0.1907 - val_accuracy: 0.9401\n",
      "Epoch 9/50\n",
      "49/49 [==============================] - 2s 32ms/step - loss: 0.0637 - accuracy: 0.9955 - val_loss: 0.1766 - val_accuracy: 0.9431\n",
      "Epoch 10/50\n",
      "49/49 [==============================] - 2s 32ms/step - loss: 0.0479 - accuracy: 0.9968 - val_loss: 0.1661 - val_accuracy: 0.9386\n",
      "Epoch 11/50\n",
      "49/49 [==============================] - 2s 31ms/step - loss: 0.0358 - accuracy: 0.9981 - val_loss: 0.1577 - val_accuracy: 0.9476\n",
      "Epoch 12/50\n",
      "49/49 [==============================] - 2s 31ms/step - loss: 0.0279 - accuracy: 0.9994 - val_loss: 0.1525 - val_accuracy: 0.9431\n",
      "Epoch 13/50\n",
      "49/49 [==============================] - 2s 33ms/step - loss: 0.0220 - accuracy: 1.0000 - val_loss: 0.1485 - val_accuracy: 0.9461\n",
      "Epoch 14/50\n",
      "49/49 [==============================] - 1s 30ms/step - loss: 0.0180 - accuracy: 1.0000 - val_loss: 0.1447 - val_accuracy: 0.9461\n",
      "Epoch 15/50\n",
      "49/49 [==============================] - 2s 31ms/step - loss: 0.0145 - accuracy: 1.0000 - val_loss: 0.1421 - val_accuracy: 0.9446\n",
      "Epoch 16/50\n",
      "49/49 [==============================] - 1s 30ms/step - loss: 0.0122 - accuracy: 1.0000 - val_loss: 0.1399 - val_accuracy: 0.9461\n",
      "Epoch 17/50\n",
      "49/49 [==============================] - 2s 31ms/step - loss: 0.0103 - accuracy: 1.0000 - val_loss: 0.1381 - val_accuracy: 0.9506\n",
      "Epoch 18/50\n",
      "49/49 [==============================] - 1s 31ms/step - loss: 0.0088 - accuracy: 1.0000 - val_loss: 0.1368 - val_accuracy: 0.9506\n",
      "Epoch 19/50\n",
      "49/49 [==============================] - 2s 31ms/step - loss: 0.0076 - accuracy: 1.0000 - val_loss: 0.1358 - val_accuracy: 0.9506\n",
      "Epoch 20/50\n",
      "49/49 [==============================] - 2s 31ms/step - loss: 0.0066 - accuracy: 1.0000 - val_loss: 0.1346 - val_accuracy: 0.9521\n",
      "Epoch 21/50\n",
      "49/49 [==============================] - 2s 32ms/step - loss: 0.0058 - accuracy: 1.0000 - val_loss: 0.1338 - val_accuracy: 0.9521\n",
      "Epoch 22/50\n",
      "49/49 [==============================] - 2s 31ms/step - loss: 0.0052 - accuracy: 1.0000 - val_loss: 0.1330 - val_accuracy: 0.9521\n",
      "Epoch 23/50\n",
      "49/49 [==============================] - 2s 31ms/step - loss: 0.0046 - accuracy: 1.0000 - val_loss: 0.1326 - val_accuracy: 0.9536\n",
      "Epoch 24/50\n",
      "49/49 [==============================] - 1s 31ms/step - loss: 0.0041 - accuracy: 1.0000 - val_loss: 0.1317 - val_accuracy: 0.9536\n",
      "Epoch 25/50\n",
      "49/49 [==============================] - 2s 31ms/step - loss: 0.0037 - accuracy: 1.0000 - val_loss: 0.1315 - val_accuracy: 0.9536\n",
      "Epoch 26/50\n",
      "49/49 [==============================] - 2s 31ms/step - loss: 0.0034 - accuracy: 1.0000 - val_loss: 0.1310 - val_accuracy: 0.9551\n",
      "Epoch 27/50\n",
      "49/49 [==============================] - 2s 31ms/step - loss: 0.0031 - accuracy: 1.0000 - val_loss: 0.1310 - val_accuracy: 0.9551\n",
      "Epoch 28/50\n",
      "49/49 [==============================] - 2s 32ms/step - loss: 0.0028 - accuracy: 1.0000 - val_loss: 0.1306 - val_accuracy: 0.9566\n",
      "Epoch 29/50\n",
      "49/49 [==============================] - 1s 31ms/step - loss: 0.0026 - accuracy: 1.0000 - val_loss: 0.1302 - val_accuracy: 0.9581\n",
      "Epoch 30/50\n",
      "49/49 [==============================] - 2s 31ms/step - loss: 0.0023 - accuracy: 1.0000 - val_loss: 0.1305 - val_accuracy: 0.9581\n",
      "Epoch 31/50\n",
      "49/49 [==============================] - 1s 31ms/step - loss: 0.0022 - accuracy: 1.0000 - val_loss: 0.1305 - val_accuracy: 0.9581\n",
      "Epoch 32/50\n",
      "49/49 [==============================] - 2s 32ms/step - loss: 0.0020 - accuracy: 1.0000 - val_loss: 0.1299 - val_accuracy: 0.9581\n",
      "Epoch 33/50\n",
      "49/49 [==============================] - 2s 32ms/step - loss: 0.0018 - accuracy: 1.0000 - val_loss: 0.1300 - val_accuracy: 0.9581\n",
      "Epoch 34/50\n",
      "49/49 [==============================] - 2s 32ms/step - loss: 0.0017 - accuracy: 1.0000 - val_loss: 0.1298 - val_accuracy: 0.9581\n",
      "Epoch 35/50\n",
      "49/49 [==============================] - 1s 30ms/step - loss: 0.0016 - accuracy: 1.0000 - val_loss: 0.1299 - val_accuracy: 0.9581\n",
      "Epoch 36/50\n",
      "49/49 [==============================] - 2s 32ms/step - loss: 0.0015 - accuracy: 1.0000 - val_loss: 0.1299 - val_accuracy: 0.9581\n",
      "Epoch 37/50\n",
      "49/49 [==============================] - 2s 31ms/step - loss: 0.0014 - accuracy: 1.0000 - val_loss: 0.1299 - val_accuracy: 0.9581\n",
      "Epoch 38/50\n",
      "49/49 [==============================] - 2s 33ms/step - loss: 0.0013 - accuracy: 1.0000 - val_loss: 0.1299 - val_accuracy: 0.9581\n",
      "Epoch 39/50\n",
      "49/49 [==============================] - 1s 31ms/step - loss: 0.0012 - accuracy: 1.0000 - val_loss: 0.1298 - val_accuracy: 0.9581\n",
      "Epoch 40/50\n",
      "49/49 [==============================] - 2s 31ms/step - loss: 0.0011 - accuracy: 1.0000 - val_loss: 0.1299 - val_accuracy: 0.9581\n",
      "Epoch 41/50\n",
      "49/49 [==============================] - 2s 31ms/step - loss: 0.0011 - accuracy: 1.0000 - val_loss: 0.1296 - val_accuracy: 0.9581\n",
      "Epoch 42/50\n",
      "49/49 [==============================] - 1s 30ms/step - loss: 0.0010 - accuracy: 1.0000 - val_loss: 0.1299 - val_accuracy: 0.9581\n",
      "Epoch 43/50\n",
      "49/49 [==============================] - 2s 32ms/step - loss: 9.4871e-04 - accuracy: 1.0000 - val_loss: 0.1301 - val_accuracy: 0.9581\n",
      "Epoch 44/50\n",
      "49/49 [==============================] - 2s 31ms/step - loss: 8.9501e-04 - accuracy: 1.0000 - val_loss: 0.1302 - val_accuracy: 0.9581\n",
      "Epoch 45/50\n",
      "49/49 [==============================] - 2s 31ms/step - loss: 8.4522e-04 - accuracy: 1.0000 - val_loss: 0.1301 - val_accuracy: 0.9581\n",
      "Epoch 46/50\n",
      "49/49 [==============================] - 2s 31ms/step - loss: 7.9904e-04 - accuracy: 1.0000 - val_loss: 0.1301 - val_accuracy: 0.9581\n",
      "Epoch 47/50\n",
      "49/49 [==============================] - 2s 31ms/step - loss: 7.5664e-04 - accuracy: 1.0000 - val_loss: 0.1304 - val_accuracy: 0.9581\n",
      "Epoch 48/50\n",
      "49/49 [==============================] - 2s 33ms/step - loss: 7.1604e-04 - accuracy: 1.0000 - val_loss: 0.1304 - val_accuracy: 0.9581\n",
      "Epoch 49/50\n",
      "49/49 [==============================] - 2s 34ms/step - loss: 6.7886e-04 - accuracy: 1.0000 - val_loss: 0.1305 - val_accuracy: 0.9581\n",
      "Epoch 50/50\n",
      "49/49 [==============================] - 2s 31ms/step - loss: 6.4431e-04 - accuracy: 1.0000 - val_loss: 0.1307 - val_accuracy: 0.9581\n"
     ]
    }
   ],
   "source": [
    "model.compile(\n",
    "    loss=SparseCategoricalCrossentropy(from_logits=True),\n",
    "    optimizer='adam',\n",
    "    metrics=['accuracy']\n",
    ")\n",
    "\n",
    "r = model.fit(\n",
    "    data_train,\n",
    "    df_train['targets'],\n",
    "    epochs=50,\n",
    "    validation_data=(data_test, df_test['targets'])\n",
    ")"
   ]
  },
  {
   "cell_type": "code",
   "execution_count": 19,
   "metadata": {},
   "outputs": [
    {
     "data": {
      "text/plain": [
       "<matplotlib.legend.Legend at 0x30e5f9dd0>"
      ]
     },
     "execution_count": 19,
     "metadata": {},
     "output_type": "execute_result"
    },
    {
     "data": {
      "image/png": "[encoded data removed]",
      "text/plain": [
       "<Figure size 640x480 with 1 Axes>"
      ]
     },
     "metadata": {},
     "output_type": "display_data"
    }
   ],
   "source": [
    "plt.plot(r.history['loss'], label='train loss')\n",
    "plt.plot(r.history['val_loss'], label='val loss')\n",
    "plt.legend()"
   ]
  },
  {
   "cell_type": "code",
   "execution_count": 20,
   "metadata": {},
   "outputs": [
    {
     "data": {
      "text/plain": [
       "<matplotlib.legend.Legend at 0x311605dd0>"
      ]
     },
     "execution_count": 20,
     "metadata": {},
     "output_type": "execute_result"
    },
    {
     "data": {
      "image/png": "[encoded data removed]",
      "text/plain": [
       "<Figure size 640x480 with 1 Axes>"
      ]
     },
     "metadata": {},
     "output_type": "display_data"
    }
   ],
   "source": [
    "plt.plot(r.history['accuracy'], label='train acc')\n",
    "plt.plot(r.history['val_accuracy'], label='val acc')\n",
    "plt.legend()"
   ]
  },
  {
   "cell_type": "code",
   "execution_count": null,
   "metadata": {},
   "outputs": [],
   "source": []
  }
 ],
 "metadata": {
  "kernelspec": {
   "display_name": "keras-env",
   "language": "python",
   "name": "python3"
  },
  "language_info": {
   "codemirror_mode": {
    "name": "ipython",
    "version": 3
   },
   "file_extension": ".py",
   "mimetype": "text/x-python",
   "name": "python",
   "nbconvert_exporter": "python",
   "pygments_lexer": "ipython3",
   "version": "3.11.5"
  }
 },
 "nbformat": 4,
 "nbformat_minor": 2
}
