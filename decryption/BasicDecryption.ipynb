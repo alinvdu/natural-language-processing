{
 "cells": [
  {
   "cell_type": "code",
   "execution_count": 70,
   "metadata": {},
   "outputs": [],
   "source": [
    "import numpy as np\n",
    "import matplotlib.pyplot as plt\n",
    "\n",
    "import string\n",
    "import random\n",
    "import re\n",
    "import requests\n",
    "import os\n",
    "import textwrap"
   ]
  },
  {
   "cell_type": "code",
   "execution_count": 135,
   "metadata": {},
   "outputs": [],
   "source": [
    "# create substituion chyper\n",
    "letters1 = list(string.ascii_lowercase)\n",
    "letters2 = list(string.ascii_lowercase)\n",
    "\n",
    "true_mapping = {}\n",
    "\n",
    "random.shuffle(letters2)\n",
    "\n",
    "for k, v in zip(letters1, letters2):\n",
    "    true_mapping[k] = v"
   ]
  },
  {
   "cell_type": "code",
   "execution_count": 147,
   "metadata": {},
   "outputs": [],
   "source": [
    "M = np.ones((26, 26))\n",
    "\n",
    "# initial state\n",
    "pi = np.zeros(26)\n",
    "\n",
    "def update_transition(ch1, ch2):\n",
    "    i = ord(ch1) - 97\n",
    "    j = ord(ch2) - 97\n",
    "    M[i, j] += 1\n",
    "    \n",
    "def update_pi(ch):\n",
    "    i = ord(ch) - 97\n",
    "    pi[i] += 1"
   ]
  },
  {
   "cell_type": "code",
   "execution_count": 159,
   "metadata": {},
   "outputs": [],
   "source": [
    "def get_word_prob(word):\n",
    "    i = ord(word[0]) - 97\n",
    "    logp = np.log(pi[i])\n",
    "    \n",
    "    for ch in word[1:]:\n",
    "        j = ord(ch) - 97\n",
    "        logp += np.log(M[i, j])\n",
    "        i = j\n",
    "        \n",
    "    return logp\n",
    "\n",
    "def get_sequence_prob(words):\n",
    "    if type(words) == str:\n",
    "        words = words.split()\n",
    "        \n",
    "    logp = 0\n",
    "    for word in words:\n",
    "        logp += get_word_prob(word)\n",
    "    return logp"
   ]
  },
  {
   "cell_type": "code",
   "execution_count": 259,
   "metadata": {},
   "outputs": [],
   "source": [
    "# regex for replacing non-alpha characters\n",
    "regex = re.compile('[^a-zA-Z]')\n",
    "\n",
    "# load in words\n",
    "for line in open('../data/moby_dick.txt'):\n",
    "    line = line.rstrip()\n",
    "    \n",
    "    if line:\n",
    "        line = regex.sub(' ', line) # replace all non-alpha chars with space\n",
    "        \n",
    "        # split tokens in the line and lowercase\n",
    "        tokens = line.lower().split()\n",
    "        \n",
    "        for token in tokens:\n",
    "            # update the model\n",
    "            ch0 = token[0]\n",
    "            update_pi(ch0)\n",
    "            \n",
    "            for ch1 in token[1:]:\n",
    "                update_transition(ch0, ch1)\n",
    "                ch0 = ch1\n",
    "                \n",
    "# normalize the probs\n",
    "pi /= pi.sum()\n",
    "M /= M.sum(axis=1, keepdims=True)"
   ]
  },
  {
   "cell_type": "code",
   "execution_count": 260,
   "metadata": {},
   "outputs": [],
   "source": [
    "original_message = '''In many of the more relaxed civilizations of the Outer Eastern Rim\n",
    "of the Galaxy, the Hitch Hiker's Guide has already supplanted the great Encyclopedia Galactica as the standard repository of all knowledge and wisdom, for though it has many\n",
    "omissions and contains much that is apocryphal, or at least widly inaccurate, it scores over\n",
    "the older, more pedestrian work in two important respects.\n",
    "'''"
   ]
  },
  {
   "cell_type": "code",
   "execution_count": 261,
   "metadata": {},
   "outputs": [],
   "source": [
    "def encode_message(msg):\n",
    "  # downcase\n",
    "  msg = msg.lower()\n",
    "\n",
    "  # replace non-alpha characters\n",
    "  msg = regex.sub(' ', msg)\n",
    "\n",
    "  # make the encoded message\n",
    "  coded_msg = []\n",
    "  for ch in msg:\n",
    "    coded_ch = ch # could just be a space\n",
    "    if ch in true_mapping:\n",
    "      coded_ch = true_mapping[ch]\n",
    "    coded_msg.append(coded_ch)\n",
    "\n",
    "  return ''.join(coded_msg)\n",
    "    \n",
    "encoded_message = encode_message(original_message)"
   ]
  },
  {
   "cell_type": "code",
   "execution_count": 262,
   "metadata": {},
   "outputs": [
    {
     "name": "stdout",
     "output_type": "stream",
     "text": [
      "pk avkn ch dow acsw swmvgwj qpypmpuvdpckb ch dow czdws wvbdwsk spa ch dow rvmvgn  dow opdqo opfws b rzpjw ovb vmswvjn bzllmvkdwj dow rswvd wkqnqmclwjpv rvmvqdpqv vb dow bdvkjvsj swlcbpdcsn ch vmm fkcxmwjrw vkj xpbjca  hcs doczro pd ovb avkn capbbpckb vkj qckdvpkb azqo dovd pb vlcqsnlovm  cs vd mwvbd xpjmn pkvqqzsvdw  pd bqcswb cyws dow cmjws  acsw lwjwbdspvk xcsf pk dxc palcsdvkd swblwqdb  \n"
     ]
    }
   ],
   "source": [
    "print(encoded_message)"
   ]
  },
  {
   "cell_type": "code",
   "execution_count": 263,
   "metadata": {},
   "outputs": [],
   "source": [
    "def decode_message(msg, word_map):\n",
    "  decoded_msg = []\n",
    "  for ch in msg:\n",
    "    decoded_ch = ch # could just be a space\n",
    "    if ch in word_map:\n",
    "      decoded_ch = word_map[ch]\n",
    "    decoded_msg.append(decoded_ch)\n",
    "\n",
    "  return ''.join(decoded_msg)"
   ]
  },
  {
   "cell_type": "code",
   "execution_count": 264,
   "metadata": {},
   "outputs": [],
   "source": [
    "# run an evolutionary algorithm to decode the message\n",
    "dna_pool = []\n",
    "for _ in range(20):\n",
    "    dna = list(string.ascii_lowercase)\n",
    "    random.shuffle(dna)\n",
    "    dna_pool.append(dna)"
   ]
  },
  {
   "cell_type": "code",
   "execution_count": 265,
   "metadata": {},
   "outputs": [],
   "source": [
    "def evolve_offspring(dna_pool, n_children):\n",
    "  # make n_children per offspring\n",
    "  offspring = []\n",
    "\n",
    "  for dna in dna_pool:\n",
    "    for _ in range(n_children):\n",
    "      copy = dna.copy()\n",
    "      j = np.random.randint(len(copy))\n",
    "      k = np.random.randint(len(copy))\n",
    "\n",
    "      # switch\n",
    "      tmp = copy[j]\n",
    "      copy[j] = copy[k]\n",
    "      copy[k] = tmp\n",
    "      offspring.append(copy)\n",
    "\n",
    "  return offspring + dna_pool"
   ]
  },
  {
   "cell_type": "code",
   "execution_count": 266,
   "metadata": {},
   "outputs": [
    {
     "name": "stdout",
     "output_type": "stream",
     "text": [
      "iter: 0 score: -9693.242518569112 best so far: -5925.015941077955\n",
      "iter: 200 score: -1264.8218681651829 best so far: -874.6005000653769\n",
      "iter: 400 score: -1211.2275015012196 best so far: -792.0199183385083\n",
      "iter: 600 score: -1609.0227731362177 best so far: -792.0199183385083\n",
      "iter: 800 score: -1156.5724980526788 best so far: -792.0199183385083\n"
     ]
    }
   ],
   "source": [
    "num_iters = 1000\n",
    "scores = np.zeros(num_iters)\n",
    "best_dna = None\n",
    "best_map = None\n",
    "best_score = float('-inf')\n",
    "for i in range(num_iters):\n",
    "  if i > 0:\n",
    "    # get offspring from the current dna pool\n",
    "    dna_pool = evolve_offspring(dna_pool, 3)\n",
    "\n",
    "  # calculate score for each dna\n",
    "  dna2score = {}\n",
    "  for dna in dna_pool:\n",
    "    # populate map\n",
    "    current_map = {}\n",
    "    for k, v in zip(letters1, dna):\n",
    "      current_map[k] = v\n",
    "\n",
    "    decoded_message = decode_message(encoded_message, current_map)\n",
    "    score = get_sequence_prob(decoded_message)\n",
    "\n",
    "    # store it\n",
    "    # needs to be a string to be a dict key\n",
    "    dna2score[''.join(dna)] = score\n",
    "\n",
    "    # record the best so far\n",
    "    if score > best_score:\n",
    "      best_dna = dna\n",
    "      best_map = current_map\n",
    "      best_score = score\n",
    "\n",
    "  # average score for this generation\n",
    "  scores[i] = np.mean(list(dna2score.values()))\n",
    "\n",
    "  # keep the best 5 dna\n",
    "  # also turn them back into list of single chars\n",
    "  sorted_dna = sorted(dna2score.items(), key=lambda x: x[1], reverse=True)\n",
    "  dna_pool = [list(k) for k, v in sorted_dna[:5]]\n",
    "\n",
    "  if i % 200 == 0:\n",
    "    print(\"iter:\", i, \"score:\", scores[i], \"best so far:\", best_score)"
   ]
  },
  {
   "cell_type": "code",
   "execution_count": 267,
   "metadata": {},
   "outputs": [
    {
     "name": "stdout",
     "output_type": "stream",
     "text": [
      "LL of decoded message: -792.0199183385083\n",
      "LL of true message: -803.5930599788461\n",
      "true: b, pred: q\n",
      "true: j, pred: x\n",
      "true: q, pred: j\n",
      "true: x, pred: b\n"
     ]
    }
   ],
   "source": [
    "decoded_message = decode_message(encoded_message, best_map)\n",
    "\n",
    "print(\"LL of decoded message:\", get_sequence_prob(decoded_message))\n",
    "print(\"LL of true message:\", get_sequence_prob(regex.sub(' ', original_message.lower())))\n",
    "\n",
    "#which letters are wrong?\n",
    "for true, v in true_mapping.items():\n",
    "    pred = best_map[v]\n",
    "    if true != pred:\n",
    "        print(\"true: %s, pred: %s\" % (true, pred))"
   ]
  },
  {
   "cell_type": "code",
   "execution_count": 268,
   "metadata": {},
   "outputs": [
    {
     "name": "stdout",
     "output_type": "stream",
     "text": [
      "Decoded message:\n",
      " in many of the more relabed civilizations of the outer eastern rim of\n",
      "the galaby  the hitch hiker s guide has already supplanted the great\n",
      "encyclopedia galactica as the standard repository of all knowledge and\n",
      "wisdom  for though it has many omissions and contains much that is\n",
      "apocryphal  or at least widly inaccurate  it scores over the older\n",
      "more pedestrian work in two important respects\n",
      "\n",
      "True message:\n",
      " In many of the more relaxed civilizations of the Outer Eastern Rim\n",
      "of the Galaxy, the Hitch Hiker's Guide has already supplanted the great Encyclopedia Galactica as the standard repository of all knowledge and wisdom, for though it has many\n",
      "omissions and contains much that is apocryphal, or at least widly inaccurate, it scores over\n",
      "the older, more pedestrian work in two important respects.\n",
      "\n"
     ]
    }
   ],
   "source": [
    "print(\"Decoded message:\\n\", textwrap.fill(decoded_message))\n",
    "print(\"\\nTrue message:\\n\", original_message)"
   ]
  },
  {
   "cell_type": "code",
   "execution_count": 269,
   "metadata": {},
   "outputs": [
    {
     "data": {
      "text/plain": [
       "[<matplotlib.lines.Line2D at 0x11ef75850>]"
      ]
     },
     "execution_count": 269,
     "metadata": {},
     "output_type": "execute_result"
    },
    {
     "data": {
      "image/png": "[encoded data removed]",
      "text/plain": [
       "<Figure size 640x480 with 1 Axes>"
      ]
     },
     "metadata": {},
     "output_type": "display_data"
    }
   ],
   "source": [
    "plt.plot(scores)"
   ]
  },
  {
   "cell_type": "code",
   "execution_count": null,
   "metadata": {},
   "outputs": [],
   "source": []
  }
 ],
 "metadata": {
  "kernelspec": {
   "display_name": "base",
   "language": "python",
   "name": "python3"
  },
  "language_info": {
   "codemirror_mode": {
    "name": "ipython",
    "version": 3
   },
   "file_extension": ".py",
   "mimetype": "text/x-python",
   "name": "python",
   "nbconvert_exporter": "python",
   "pygments_lexer": "ipython3",
   "version": "3.11.5"
  }
 },
 "nbformat": 4,
 "nbformat_minor": 2
}
