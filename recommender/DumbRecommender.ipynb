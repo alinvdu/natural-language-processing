{
 "cells": [
  {
   "cell_type": "markdown",
   "metadata": {},
   "source": [
    "#### Dumb recommender system using TfidfVectorizer, build numerical representation from text and use cosine similarity to recommend similar characteristics"
   ]
  },
  {
   "cell_type": "code",
   "execution_count": 4,
   "metadata": {},
   "outputs": [
    {
     "name": "stdout",
     "output_type": "stream",
     "text": [
      "(4803, 20)\n"
     ]
    }
   ],
   "source": [
    "import pandas as pd\n",
    "\n",
    "df = pd.read_csv('../data/tmdb_5000_movies.csv')\n",
    "print(df.shape)"
   ]
  },
  {
   "cell_type": "code",
   "execution_count": 5,
   "metadata": {},
   "outputs": [
    {
     "name": "stdout",
     "output_type": "stream",
     "text": [
      "      budget                                             genres  \\\n",
      "0  237000000  [{\"id\": 28, \"name\": \"Action\"}, {\"id\": 12, \"nam...   \n",
      "1  300000000  [{\"id\": 12, \"name\": \"Adventure\"}, {\"id\": 14, \"...   \n",
      "2  245000000  [{\"id\": 28, \"name\": \"Action\"}, {\"id\": 12, \"nam...   \n",
      "3  250000000  [{\"id\": 28, \"name\": \"Action\"}, {\"id\": 80, \"nam...   \n",
      "4  260000000  [{\"id\": 28, \"name\": \"Action\"}, {\"id\": 12, \"nam...   \n",
      "\n",
      "                                       homepage      id  \\\n",
      "0                   http://www.avatarmovie.com/   19995   \n",
      "1  http://disney.go.com/disneypictures/pirates/     285   \n",
      "2   http://www.sonypictures.com/movies/spectre/  206647   \n",
      "3            http://www.thedarkknightrises.com/   49026   \n",
      "4          http://movies.disney.com/john-carter   49529   \n",
      "\n",
      "                                            keywords original_language  \\\n",
      "0  [{\"id\": 1463, \"name\": \"culture clash\"}, {\"id\":...                en   \n",
      "1  [{\"id\": 270, \"name\": \"ocean\"}, {\"id\": 726, \"na...                en   \n",
      "2  [{\"id\": 470, \"name\": \"spy\"}, {\"id\": 818, \"name...                en   \n",
      "3  [{\"id\": 849, \"name\": \"dc comics\"}, {\"id\": 853,...                en   \n",
      "4  [{\"id\": 818, \"name\": \"based on novel\"}, {\"id\":...                en   \n",
      "\n",
      "                             original_title  \\\n",
      "0                                    Avatar   \n",
      "1  Pirates of the Caribbean: At World's End   \n",
      "2                                   Spectre   \n",
      "3                     The Dark Knight Rises   \n",
      "4                               John Carter   \n",
      "\n",
      "                                            overview  popularity  \\\n",
      "0  In the 22nd century, a paraplegic Marine is di...  150.437577   \n",
      "1  Captain Barbossa, long believed to be dead, ha...  139.082615   \n",
      "2  A cryptic message from Bond’s past sends him o...  107.376788   \n",
      "3  Following the death of District Attorney Harve...  112.312950   \n",
      "4  John Carter is a war-weary, former military ca...   43.926995   \n",
      "\n",
      "                                production_companies  \\\n",
      "0  [{\"name\": \"Ingenious Film Partners\", \"id\": 289...   \n",
      "1  [{\"name\": \"Walt Disney Pictures\", \"id\": 2}, {\"...   \n",
      "2  [{\"name\": \"Columbia Pictures\", \"id\": 5}, {\"nam...   \n",
      "3  [{\"name\": \"Legendary Pictures\", \"id\": 923}, {\"...   \n",
      "4        [{\"name\": \"Walt Disney Pictures\", \"id\": 2}]   \n",
      "\n",
      "                                production_countries release_date     revenue  \\\n",
      "0  [{\"iso_3166_1\": \"US\", \"name\": \"United States o...   2009-12-10  2787965087   \n",
      "1  [{\"iso_3166_1\": \"US\", \"name\": \"United States o...   2007-05-19   961000000   \n",
      "2  [{\"iso_3166_1\": \"GB\", \"name\": \"United Kingdom\"...   2015-10-26   880674609   \n",
      "3  [{\"iso_3166_1\": \"US\", \"name\": \"United States o...   2012-07-16  1084939099   \n",
      "4  [{\"iso_3166_1\": \"US\", \"name\": \"United States o...   2012-03-07   284139100   \n",
      "\n",
      "   runtime                                   spoken_languages    status  \\\n",
      "0    162.0  [{\"iso_639_1\": \"en\", \"name\": \"English\"}, {\"iso...  Released   \n",
      "1    169.0           [{\"iso_639_1\": \"en\", \"name\": \"English\"}]  Released   \n",
      "2    148.0  [{\"iso_639_1\": \"fr\", \"name\": \"Fran\\u00e7ais\"},...  Released   \n",
      "3    165.0           [{\"iso_639_1\": \"en\", \"name\": \"English\"}]  Released   \n",
      "4    132.0           [{\"iso_639_1\": \"en\", \"name\": \"English\"}]  Released   \n",
      "\n",
      "                                          tagline  \\\n",
      "0                     Enter the World of Pandora.   \n",
      "1  At the end of the world, the adventure begins.   \n",
      "2                           A Plan No One Escapes   \n",
      "3                                 The Legend Ends   \n",
      "4            Lost in our world, found in another.   \n",
      "\n",
      "                                      title  vote_average  vote_count  \n",
      "0                                    Avatar           7.2       11800  \n",
      "1  Pirates of the Caribbean: At World's End           6.9        4500  \n",
      "2                                   Spectre           6.3        4466  \n",
      "3                     The Dark Knight Rises           7.6        9106  \n",
      "4                               John Carter           6.1        2124  \n"
     ]
    }
   ],
   "source": [
    "print(df.head())"
   ]
  },
  {
   "cell_type": "code",
   "execution_count": 7,
   "metadata": {},
   "outputs": [],
   "source": [
    "# For each movie, compose a big string with all the information, prepared for tokenization\n",
    "import json\n",
    "\n",
    "inputs = []\n",
    "\n",
    "def processDataMovie(rowObj):\n",
    "  row_string = \"\"\n",
    "  for key, value in rowObj.items():\n",
    "    if key != \"genres\" and key != \"keywords\":\n",
    "      continue\n",
    "    if isinstance(value, str):\n",
    "      try:\n",
    "        valueIt = json.loads(value)\n",
    "        for mov in valueIt:\n",
    "          for k, v in mov.items():\n",
    "            if k == \"id\":\n",
    "              continue\n",
    "            else:\n",
    "              row_string += f\" {v} \"\n",
    "      except:\n",
    "        row_string += f\" {value} \"\n",
    "    else:\n",
    "      row_string += f\" {str(value)} \"\n",
    "    \n",
    "  return row_string\n",
    "\n",
    "\n",
    "\n",
    "for item in df.iterrows():\n",
    "  inputs.append(processDataMovie(item[1]))"
   ]
  },
  {
   "cell_type": "code",
   "execution_count": 8,
   "metadata": {},
   "outputs": [
    {
     "name": "stdout",
     "output_type": "stream",
     "text": [
      "(4803, 2000)\n"
     ]
    }
   ],
   "source": [
    "from sklearn.feature_extraction.text import TfidfVectorizer\n",
    "\n",
    "vectorizer = TfidfVectorizer(max_features=2000)\n",
    "X = vectorizer.fit_transform(inputs)\n",
    "print(X.shape)"
   ]
  },
  {
   "cell_type": "code",
   "execution_count": 9,
   "metadata": {},
   "outputs": [],
   "source": [
    "movie2idx = pd.Series(df.index, index=df['title'])"
   ]
  },
  {
   "cell_type": "code",
   "execution_count": 10,
   "metadata": {},
   "outputs": [
    {
     "name": "stdout",
     "output_type": "stream",
     "text": [
      "1164\n",
      "budget                                                           40000000\n",
      "genres                  [{\"id\": 27, \"name\": \"Horror\"}, {\"id\": 9648, \"n...\n",
      "homepage                                                              NaN\n",
      "id                                                                   4234\n",
      "keywords                [{\"id\": 2546, \"name\": \"mask\"}, {\"id\": 2573, \"n...\n",
      "original_language                                                      en\n",
      "original_title                                                   Scream 3\n",
      "overview                A murdering spree begins to happen again, this...\n",
      "popularity                                                      24.992057\n",
      "production_companies    [{\"name\": \"Konrad Pictures\", \"id\": 85}, {\"name...\n",
      "production_countries    [{\"iso_3166_1\": \"US\", \"name\": \"United States o...\n",
      "release_date                                                   2000-02-03\n",
      "revenue                                                         161834276\n",
      "runtime                                                             116.0\n",
      "spoken_languages                 [{\"iso_639_1\": \"en\", \"name\": \"English\"}]\n",
      "status                                                           Released\n",
      "tagline                 Someone has taken their love of trilogies one ...\n",
      "title                                                            Scream 3\n",
      "vote_average                                                          5.7\n",
      "vote_count                                                            736\n",
      "Name: 1164, dtype: object\n"
     ]
    }
   ],
   "source": [
    "# transform query to vectorize formation\n",
    "queryTitleName = \"Scream 3\"\n",
    "print(movie2idx[queryTitleName])\n",
    "\n",
    "X_q = X[movie2idx[queryTitleName]]\n",
    "print(df.iloc[movie2idx[queryTitleName]])"
   ]
  },
  {
   "cell_type": "code",
   "execution_count": 11,
   "metadata": {},
   "outputs": [],
   "source": [
    "from sklearn.metrics.pairwise import cosine_similarity\n",
    "import numpy as np\n",
    "\n",
    "cosine_sim = cosine_similarity(X, X_q)\n",
    "\n",
    "non_zero_indices = np.nonzero(cosine_sim != 0)[0]\n",
    "non_zero_elements = cosine_sim[non_zero_indices].flatten()\n",
    "sorted_order = np.argsort(-non_zero_elements)\n",
    "ranked_indices = non_zero_indices[sorted_order][1:6]\n"
   ]
  },
  {
   "cell_type": "code",
   "execution_count": 12,
   "metadata": {},
   "outputs": [
    {
     "name": "stdout",
     "output_type": "stream",
     "text": [
      "The Calling\n",
      "Felicia's Journey\n",
      "Friday the 13th: A New Beginning\n",
      "Mindhunters\n",
      "The Glimmer Man\n"
     ]
    }
   ],
   "source": [
    "# Display movies name\n",
    "for idx in ranked_indices:\n",
    "  movie = df.iloc[idx]\n",
    "  print(movie['title'])"
   ]
  },
  {
   "cell_type": "code",
   "execution_count": 13,
   "metadata": {},
   "outputs": [],
   "source": [
    "def recommendMovie(title):\n",
    "  # transform query to vectorize formation\n",
    "  X_q = X[movie2idx[title]]\n",
    "\n",
    "  cosine_sim = cosine_similarity(X, X_q)\n",
    "  non_zero_indices = np.nonzero(cosine_sim != 0)[0]\n",
    "  non_zero_elements = cosine_sim[non_zero_indices].flatten()\n",
    "  sorted_order = np.argsort(-non_zero_elements)\n",
    "  ranked_indices = non_zero_indices[sorted_order][1:6]\n",
    "\n",
    "  for idx in ranked_indices:\n",
    "    movie = df.iloc[idx]\n",
    "    print(movie['title'])\n"
   ]
  },
  {
   "cell_type": "code",
   "execution_count": 14,
   "metadata": {},
   "outputs": [
    {
     "name": "stdout",
     "output_type": "stream",
     "text": [
      "Silent Running\n",
      "Armageddon\n",
      "About Time\n",
      "The Astronaut's Wife\n",
      "Lost in Space\n"
     ]
    }
   ],
   "source": [
    "recommendMovie(\"Interstellar\")"
   ]
  },
  {
   "cell_type": "code",
   "execution_count": null,
   "metadata": {},
   "outputs": [],
   "source": []
  }
 ],
 "metadata": {
  "kernelspec": {
   "display_name": "base",
   "language": "python",
   "name": "python3"
  },
  "language_info": {
   "codemirror_mode": {
    "name": "ipython",
    "version": 3
   },
   "file_extension": ".py",
   "mimetype": "text/x-python",
   "name": "python",
   "nbconvert_exporter": "python",
   "pygments_lexer": "ipython3",
   "version": "3.11.5"
  }
 },
 "nbformat": 4,
 "nbformat_minor": 2
}
